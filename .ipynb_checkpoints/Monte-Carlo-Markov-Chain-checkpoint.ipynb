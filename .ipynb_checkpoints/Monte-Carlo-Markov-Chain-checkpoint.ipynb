{
 "cells": [
  {
   "cell_type": "markdown",
   "metadata": {},
   "source": [
    "## Supermarket MCMC simulation\n",
    "In this project, the goal is to write a program that simulates customer behaviour in a supermarket using Markov-Chain Monte Carlo methods and visualize it on a map."
   ]
  },
  {
   "cell_type": "code",
   "execution_count": 1,
   "metadata": {},
   "outputs": [],
   "source": [
    "#import libraries\n",
    "import pandas as pd\n",
    "import numpy as np\n",
    "import seaborn as sns\n",
    "import plotly.express as px\n",
    "import cv2\n",
    "import os\n",
    "import warnings\n",
    "warnings.filterwarnings(\"ignore\")"
   ]
  },
  {
   "cell_type": "code",
   "execution_count": 2,
   "metadata": {
    "scrolled": true
   },
   "outputs": [
    {
     "data": {
      "text/html": [
       "<div>\n",
       "<style scoped>\n",
       "    .dataframe tbody tr th:only-of-type {\n",
       "        vertical-align: middle;\n",
       "    }\n",
       "\n",
       "    .dataframe tbody tr th {\n",
       "        vertical-align: top;\n",
       "    }\n",
       "\n",
       "    .dataframe thead th {\n",
       "        text-align: right;\n",
       "    }\n",
       "</style>\n",
       "<table border=\"1\" class=\"dataframe\">\n",
       "  <thead>\n",
       "    <tr style=\"text-align: right;\">\n",
       "      <th></th>\n",
       "      <th>Unnamed: 0</th>\n",
       "      <th>timestamp</th>\n",
       "      <th>week</th>\n",
       "      <th>date</th>\n",
       "      <th>year</th>\n",
       "      <th>month</th>\n",
       "      <th>day</th>\n",
       "      <th>a_day</th>\n",
       "      <th>time</th>\n",
       "      <th>hour</th>\n",
       "      <th>minute</th>\n",
       "      <th>customer_no</th>\n",
       "      <th>customer_ID</th>\n",
       "      <th>location</th>\n",
       "      <th>next_loc</th>\n",
       "    </tr>\n",
       "  </thead>\n",
       "  <tbody>\n",
       "    <tr>\n",
       "      <th>0</th>\n",
       "      <td>0</td>\n",
       "      <td>2019-09-02 07:03:00</td>\n",
       "      <td>36</td>\n",
       "      <td>2019-09-02</td>\n",
       "      <td>2019</td>\n",
       "      <td>9</td>\n",
       "      <td>2</td>\n",
       "      <td>Mon</td>\n",
       "      <td>07:03:00</td>\n",
       "      <td>7</td>\n",
       "      <td>3</td>\n",
       "      <td>1</td>\n",
       "      <td>1_Mon</td>\n",
       "      <td>dairy</td>\n",
       "      <td>checkout</td>\n",
       "    </tr>\n",
       "    <tr>\n",
       "      <th>1</th>\n",
       "      <td>1</td>\n",
       "      <td>2019-09-02 07:03:00</td>\n",
       "      <td>36</td>\n",
       "      <td>2019-09-02</td>\n",
       "      <td>2019</td>\n",
       "      <td>9</td>\n",
       "      <td>2</td>\n",
       "      <td>Mon</td>\n",
       "      <td>07:03:00</td>\n",
       "      <td>7</td>\n",
       "      <td>3</td>\n",
       "      <td>2</td>\n",
       "      <td>2_Mon</td>\n",
       "      <td>dairy</td>\n",
       "      <td>checkout</td>\n",
       "    </tr>\n",
       "    <tr>\n",
       "      <th>2</th>\n",
       "      <td>2</td>\n",
       "      <td>2019-09-02 07:04:00</td>\n",
       "      <td>36</td>\n",
       "      <td>2019-09-02</td>\n",
       "      <td>2019</td>\n",
       "      <td>9</td>\n",
       "      <td>2</td>\n",
       "      <td>Mon</td>\n",
       "      <td>07:04:00</td>\n",
       "      <td>7</td>\n",
       "      <td>4</td>\n",
       "      <td>3</td>\n",
       "      <td>3_Mon</td>\n",
       "      <td>dairy</td>\n",
       "      <td>checkout</td>\n",
       "    </tr>\n",
       "  </tbody>\n",
       "</table>\n",
       "</div>"
      ],
      "text/plain": [
       "   Unnamed: 0            timestamp  week        date  year  month  day a_day  \\\n",
       "0           0  2019-09-02 07:03:00    36  2019-09-02  2019      9    2   Mon   \n",
       "1           1  2019-09-02 07:03:00    36  2019-09-02  2019      9    2   Mon   \n",
       "2           2  2019-09-02 07:04:00    36  2019-09-02  2019      9    2   Mon   \n",
       "\n",
       "       time  hour  minute  customer_no customer_ID location  next_loc  \n",
       "0  07:03:00     7       3            1       1_Mon    dairy  checkout  \n",
       "1  07:03:00     7       3            2       2_Mon    dairy  checkout  \n",
       "2  07:04:00     7       4            3       3_Mon    dairy  checkout  "
      ]
     },
     "execution_count": 2,
     "metadata": {},
     "output_type": "execute_result"
    }
   ],
   "source": [
    "#load saved dataframe from EDA\n",
    "df = pd.read_csv('Data/new_df.csv')\n",
    "df.head(3)"
   ]
  },
  {
   "cell_type": "code",
   "execution_count": 3,
   "metadata": {},
   "outputs": [
    {
     "data": {
      "text/html": [
       "<div>\n",
       "<style scoped>\n",
       "    .dataframe tbody tr th:only-of-type {\n",
       "        vertical-align: middle;\n",
       "    }\n",
       "\n",
       "    .dataframe tbody tr th {\n",
       "        vertical-align: top;\n",
       "    }\n",
       "\n",
       "    .dataframe thead th {\n",
       "        text-align: right;\n",
       "    }\n",
       "</style>\n",
       "<table border=\"1\" class=\"dataframe\">\n",
       "  <thead>\n",
       "    <tr style=\"text-align: right;\">\n",
       "      <th>next_loc</th>\n",
       "      <th>checkout</th>\n",
       "      <th>dairy</th>\n",
       "      <th>drinks</th>\n",
       "      <th>fruit</th>\n",
       "      <th>spices</th>\n",
       "    </tr>\n",
       "    <tr>\n",
       "      <th>location</th>\n",
       "      <th></th>\n",
       "      <th></th>\n",
       "      <th></th>\n",
       "      <th></th>\n",
       "      <th></th>\n",
       "    </tr>\n",
       "  </thead>\n",
       "  <tbody>\n",
       "    <tr>\n",
       "      <th>checkout</th>\n",
       "      <td>1.000000</td>\n",
       "      <td>0.000000</td>\n",
       "      <td>0.000000</td>\n",
       "      <td>0.000000</td>\n",
       "      <td>0.000000</td>\n",
       "    </tr>\n",
       "    <tr>\n",
       "      <th>dairy</th>\n",
       "      <td>0.391211</td>\n",
       "      <td>0.000000</td>\n",
       "      <td>0.223151</td>\n",
       "      <td>0.189925</td>\n",
       "      <td>0.195713</td>\n",
       "    </tr>\n",
       "    <tr>\n",
       "      <th>drinks</th>\n",
       "      <td>0.537023</td>\n",
       "      <td>0.027159</td>\n",
       "      <td>0.000000</td>\n",
       "      <td>0.219062</td>\n",
       "      <td>0.216756</td>\n",
       "    </tr>\n",
       "    <tr>\n",
       "      <th>fruit</th>\n",
       "      <td>0.499511</td>\n",
       "      <td>0.238319</td>\n",
       "      <td>0.136266</td>\n",
       "      <td>0.000000</td>\n",
       "      <td>0.125904</td>\n",
       "    </tr>\n",
       "    <tr>\n",
       "      <th>spices</th>\n",
       "      <td>0.251000</td>\n",
       "      <td>0.323553</td>\n",
       "      <td>0.273140</td>\n",
       "      <td>0.152307</td>\n",
       "      <td>0.000000</td>\n",
       "    </tr>\n",
       "  </tbody>\n",
       "</table>\n",
       "</div>"
      ],
      "text/plain": [
       "next_loc  checkout     dairy    drinks     fruit    spices\n",
       "location                                                  \n",
       "checkout  1.000000  0.000000  0.000000  0.000000  0.000000\n",
       "dairy     0.391211  0.000000  0.223151  0.189925  0.195713\n",
       "drinks    0.537023  0.027159  0.000000  0.219062  0.216756\n",
       "fruit     0.499511  0.238319  0.136266  0.000000  0.125904\n",
       "spices    0.251000  0.323553  0.273140  0.152307  0.000000"
      ]
     },
     "execution_count": 3,
     "metadata": {},
     "output_type": "execute_result"
    }
   ],
   "source": [
    "# Transition Matrix\n",
    "transition_mat=pd.crosstab(df['location'],  df['next_loc'], normalize=0)\n",
    "transition_mat"
   ]
  },
  {
   "cell_type": "code",
   "execution_count": 4,
   "metadata": {
    "scrolled": true
   },
   "outputs": [
    {
     "data": {
      "text/plain": [
       "array([[1.        , 0.        , 0.        , 0.        , 0.        ],\n",
       "       [0.39121115, 0.        , 0.22315113, 0.18992497, 0.19571275],\n",
       "       [0.5370228 , 0.0271586 , 0.        , 0.21906226, 0.21675634],\n",
       "       [0.49951124, 0.23831867, 0.13626588, 0.        , 0.1259042 ],\n",
       "       [0.25100027, 0.32355295, 0.2731395 , 0.15230728, 0.        ]])"
      ]
     },
     "execution_count": 4,
     "metadata": {},
     "output_type": "execute_result"
    }
   ],
   "source": [
    "#Convert transition matrix to numpy array\n",
    "P = transition_mat.to_numpy()\n",
    "P"
   ]
  },
  {
   "cell_type": "code",
   "execution_count": 5,
   "metadata": {},
   "outputs": [],
   "source": [
    "# Actual Simulation\n",
    "class Customer:\n",
    "    def __init__(self, id, state, transition_mat):\n",
    "        self.id = id\n",
    "        self.state = state\n",
    "        self.transition_mat = transition_mat\n",
    "        \n",
    "      \n",
    "    def __repr__(self):\n",
    "        return f'<Customer {self.id} in {self.state}>'\n",
    "      \n",
    "\n",
    "    def is_active(self):\n",
    "        if self.state != 'checkout':\n",
    "            return True\n",
    "        else:\n",
    "            return False\n",
    "\n",
    "    def next_state(self):\n",
    "        transition_mat = self.transition_mat\n",
    "        next_state = ['checkout', 'dairy', 'drinks', 'fruit', 'spices']\n",
    "        if self.state == 'checkout':\n",
    "                return 'customer has left'\n",
    "        else:\n",
    "            while self.state != 'checkout':\n",
    "                if self.state == 'dairy':\n",
    "                    self.state = np.random.choice(next_state, p=transition_mat[1])\n",
    "                    print(self.state)\n",
    "                elif self.state == 'drinks':\n",
    "                    self.state = np.random.choice(next_state, p=transition_mat[2])\n",
    "                    print(self.state)\n",
    "                elif self.state == 'fruit':\n",
    "                    self.state = np.random.choice(next_state, p=transition_mat[3])\n",
    "                    print(self.state)\n",
    "                else:\n",
    "                    self.state = np.random.choice(next_state, p=transition_mat[4])\n",
    "                    print(self.state)\n",
    "            else:\n",
    "                return 'customer has left'"
   ]
  },
  {
   "cell_type": "code",
   "execution_count": 6,
   "metadata": {},
   "outputs": [
    {
     "data": {
      "text/plain": [
       "True"
      ]
     },
     "execution_count": 6,
     "metadata": {},
     "output_type": "execute_result"
    }
   ],
   "source": [
    "#For customer 1\n",
    "cust1 = Customer(1, 'dairy', P)\n",
    "cust1.is_active()"
   ]
  },
  {
   "cell_type": "code",
   "execution_count": 7,
   "metadata": {
    "scrolled": true
   },
   "outputs": [
    {
     "name": "stdout",
     "output_type": "stream",
     "text": [
      "spices\n",
      "fruit\n",
      "checkout\n"
     ]
    },
    {
     "data": {
      "text/plain": [
       "'customer has left'"
      ]
     },
     "execution_count": 7,
     "metadata": {},
     "output_type": "execute_result"
    }
   ],
   "source": [
    "cust1.next_state()"
   ]
  },
  {
   "cell_type": "code",
   "execution_count": 8,
   "metadata": {
    "scrolled": true
   },
   "outputs": [
    {
     "data": {
      "text/plain": [
       "False"
      ]
     },
     "execution_count": 8,
     "metadata": {},
     "output_type": "execute_result"
    }
   ],
   "source": [
    "cust1.is_active()"
   ]
  },
  {
   "cell_type": "code",
   "execution_count": 9,
   "metadata": {},
   "outputs": [
    {
     "data": {
      "text/plain": [
       "True"
      ]
     },
     "execution_count": 9,
     "metadata": {},
     "output_type": "execute_result"
    }
   ],
   "source": [
    "#For customer 4\n",
    "cust4 = Customer(4, 'dairy', P)\n",
    "cust4.is_active()"
   ]
  },
  {
   "cell_type": "code",
   "execution_count": 10,
   "metadata": {},
   "outputs": [
    {
     "name": "stdout",
     "output_type": "stream",
     "text": [
      "spices\n",
      "dairy\n",
      "spices\n",
      "drinks\n",
      "fruit\n",
      "dairy\n",
      "checkout\n"
     ]
    },
    {
     "data": {
      "text/plain": [
       "'customer has left'"
      ]
     },
     "execution_count": 10,
     "metadata": {},
     "output_type": "execute_result"
    }
   ],
   "source": [
    "cust4.next_state()"
   ]
  },
  {
   "cell_type": "code",
   "execution_count": 11,
   "metadata": {},
   "outputs": [
    {
     "data": {
      "text/plain": [
       "False"
      ]
     },
     "execution_count": 11,
     "metadata": {},
     "output_type": "execute_result"
    }
   ],
   "source": [
    "cust4.is_active()"
   ]
  },
  {
   "cell_type": "code",
   "execution_count": 12,
   "metadata": {},
   "outputs": [
    {
     "name": "stdout",
     "output_type": "stream",
     "text": [
      "drinks\n",
      "checkout\n"
     ]
    },
    {
     "data": {
      "text/plain": [
       "'customer has left'"
      ]
     },
     "execution_count": 12,
     "metadata": {},
     "output_type": "execute_result"
    }
   ],
   "source": [
    "#For customer 3\n",
    "cust3 = Customer(3, 'spices', P)\n",
    "cust3.next_state()"
   ]
  },
  {
   "cell_type": "code",
   "execution_count": null,
   "metadata": {},
   "outputs": [],
   "source": []
  },
  {
   "cell_type": "code",
   "execution_count": null,
   "metadata": {},
   "outputs": [],
   "source": []
  },
  {
   "cell_type": "code",
   "execution_count": null,
   "metadata": {},
   "outputs": [],
   "source": []
  }
 ],
 "metadata": {
  "kernelspec": {
   "display_name": "Python 3",
   "language": "python",
   "name": "python3"
  },
  "language_info": {
   "codemirror_mode": {
    "name": "ipython",
    "version": 3
   },
   "file_extension": ".py",
   "mimetype": "text/x-python",
   "name": "python",
   "nbconvert_exporter": "python",
   "pygments_lexer": "ipython3",
   "version": "3.7.6"
  }
 },
 "nbformat": 4,
 "nbformat_minor": 4
}
